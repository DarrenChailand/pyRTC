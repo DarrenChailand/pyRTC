{
 "cells": [
  {
   "cell_type": "markdown",
   "metadata": {},
   "source": [
    "# pyRTC Example: Simulated Single Conjugate AO system with Pyramid Wavefront Sensor\n",
    "\n",
    "This example will take you through how to set-up a basic SCAO system in pyRTC which uses the OOPAO simulation software to simulate the necessary AO hardware components.\n",
    "\n",
    "### IMPORTANT NOTE BEFORE STARTING\n",
    "\n",
    "**This notebook runs all of the AO components inside a single process. Because of the python Global Interpretter Lock, this will lead to SLOW performance, but will easier to debug. If you would like to run each computation as an independent process you will need to use the Hardware Launcher tool. Please see pywfs_example_OOPAO_pipeline.py for instructions** "
   ]
  },
  {
   "cell_type": "code",
   "execution_count": 1,
   "metadata": {},
   "outputs": [
    {
     "name": "stdout",
     "output_type": "stream",
     "text": [
      "\n",
      "\n",
      "======================================================================================>      \n",
      "   ✸       *           °                *      *                                            \n",
      "        °   ✸           ▄███▄   ▄███▄  ▄████▄   ▄███▄ * ▄███▄    =>               ▄▄▄▄           \n",
      "  ✸            °       ██*  ██ ██   ██ ██   ██ ██   ██ ██   ██   ====>         ▄█▀▀  ▀▀█▄        \n",
      "   *   °    ✸          ██   ██ ██ ° ██ ██   ██ ██ * ██ ██   ██   ==>          █▀ ▄█▀▀█▄ ▀█       \n",
      "✸    *             °   ██   ██ ██   ██ █████▀  ██▄▄▄██ ██   ██   =========>  █▀ █▀ ▄▄ ▀█ ▀█      \n",
      "           ✸   °       ██ * ██ ██   ██ ██      ██▀▀▀██ ██   ██   ========>   █▄ █▄ ▀▀ ▄█ ▄█      \n",
      " *    ✸     °          ██   ██ ██   ██ ██  *   ██   ██ ██*  ██   =>           █▄ ▀█▄▄█▀ ▄█       \n",
      "    °        *    ✸     ▀███▀   ▀███▀  ██    ° ██   ██  ▀███▀    ==>           ▀█▄▄  ▄▄█▀        \n",
      "         ✸       *          *         *                                           ▀▀▀▀           \n",
      "======================================================================================>      \n",
      "\n",
      "\n",
      "**************************************************************************************************************************************************************\n",
      "NUMPY WARNING: mkl blas not found! Multi-threading may not work as expected.\n",
      "**************************************************************************************************************************************************************\n"
     ]
    }
   ],
   "source": [
    "#Import the basics\n",
    "import numpy as np\n",
    "import yaml\n",
    "import matplotlib.pyplot as plt\n",
    "\n",
    "#Import hardware classes\n",
    "from pyRTC.hardware.OOPAOInterface import OOPAOInterface\n",
    "from pyRTC.SlopesProcess import SlopesProcess\n",
    "# from pyRTC.Pipeline import *\n",
    "from pyRTC.Loop import Loop"
   ]
  },
  {
   "cell_type": "code",
   "execution_count": 2,
   "metadata": {},
   "outputs": [
    {
     "data": {
      "text/plain": [
       "'\\nShared memory in python is a bit annoying, we are required to unlink it from the garbage collector\\nso that it will stick around in between runs, however sometime you can get into a situation where \\nthe SHM is not intialized properly. Usually you will see an error like: \\nTypeError: buffer is too small for requested array\\n\\nTo reset a SHM you can run the following code. Note: it will throw some garbage collector errors.\\n'"
      ]
     },
     "execution_count": 2,
     "metadata": {},
     "output_type": "execute_result"
    }
   ],
   "source": [
    "\"\"\"\n",
    "Shared memory in python is a bit annoying, we are required to unlink it from the garbage collector\n",
    "so that it will stick around in between runs, however sometime you can get into a situation where \n",
    "the SHM is not intialized properly. Usually you will see an error like: \n",
    "TypeError: buffer is too small for requested array\n",
    "\n",
    "To reset a SHM you can run the following code. Note: it will throw some garbage collector errors.\n",
    "\"\"\"\n",
    "# shm_names = [\"wfs\", \"wfsRaw\", \"wfc\", \"wfc2D\", \"signal\", \"signal2D\"] #list of SHMs to reset\n",
    "# clear_shms(shm_names)"
   ]
  },
  {
   "cell_type": "markdown",
   "metadata": {},
   "source": [
    "pyRTC uses YAML config files to specify all of the variables for each component of your AO system. Setting up the config file properly is very important in order to have pyRTC run correctly.\n",
    "\n",
    "For this example, we will be using the config file: pywfs_OOPAO_config.yaml"
   ]
  },
  {
   "cell_type": "code",
   "execution_count": 3,
   "metadata": {},
   "outputs": [
    {
     "name": "stdout",
     "output_type": "stream",
     "text": [
      "{'gain': 0.1, 'numDroppedModes': 30, 'pokeAmp': 1e-06, 'numItersIM': 1, 'affinity': 2, 'delay': 2, 'method': 'push-pull', 'functions': ['standardIntegrator']}\n",
      "{'name': 'OOPAOWFS', 'binning': 2, 'exposure': 2000, 'gain': 0, 'bitDepth': 10, 'left': 0, 'top': 0, 'width': 48, 'height': 48, 'darkCount': 1000, 'affinity': 3, 'flatNorm': False, 'functions': ['expose']}\n",
      "{'name': 'OOPAOWFC', 'numActuators': 356, 'numModes': 356, 'flatFile': '', 'saveFile': '', 'm2cFile': '', 'affinity': 5, 'commandCap': 0.8, 'hardwareDelay': 0.001, 'frameDelay': 0, 'functions': ['sendToHardware']}\n",
      "{'name': 'OOPAOPSF', 'index': 0, 'exposure': 80, 'gain': 0, 'bitDepth': 16, 'left': 0, 'top': 0, 'width': 128, 'height': 128, 'darkCount': 1000, 'integration': 500000, 'affinity': 6, 'functions': ['expose', 'integrate']}\n",
      "{'type': 'PYWFS', 'signalType': 'slopes', 'subApSpacing': 4, 'subApOffsetX': 0, 'subApOffsetY': 0, 'affinity': 4, 'flatNorm': False, 'functions': ['computeSignal']}\n"
     ]
    }
   ],
   "source": [
    "# Load the configuration file\n",
    "def read_yaml_file(file_path):\n",
    "    with open(file_path, 'r') as file:\n",
    "        conf = yaml.safe_load(file)\n",
    "    return conf\n",
    "\n",
    "#Now we can read our YAML config file \n",
    "conf = read_yaml_file(\"pywfs_OOPAO_config.yaml\")\n",
    "\n",
    "#And separate it into sections for each of our AO loop components\n",
    "confLoop = conf[\"loop\"]\n",
    "confWFS = conf[\"wfs\"]\n",
    "confWFC = conf[\"wfc\"]\n",
    "confPSF = conf[\"psf\"]\n",
    "confSlopes = conf[\"slopes\"]\n",
    "\n",
    "print(confLoop)\n",
    "print(confWFS)\n",
    "print(confWFC)\n",
    "print(confPSF)\n",
    "print(confSlopes)"
   ]
  },
  {
   "cell_type": "markdown",
   "metadata": {},
   "source": [
    "We have defined an OOPAO interface object which sets up an SCAO loop. This object is a wrapper for the following sub classes:\n",
    "\n",
    "- _OOPAOScienceCamera\n",
    "- _OOPAOSlopesProcess\n",
    "- _OOPAOWFCorrector\n",
    "- _OOPAOWFSensor\n",
    "\n",
    "Each of these subclasses is a child of a pyRTC core class, which adds the interfacing and logic required by the OOPAO package. There are several core pyRTC classes, which each represent abstract versions of standard AO components. Some examples of pyRTC core classes include:\n",
    "\n",
    "- WavefrontSensor\n",
    "- WavefrontCorrector\n",
    "- SlopesProcess\n",
    "- ScienceCamera\n",
    "\n",
    "The OOPAO interface is a wrapper for these objects which initializes them given the user provided configuration. Right now, this is limited to SCAO systems, but there is no reason that it could not be easily modified to support multiple wavefront sensors or correctors."
   ]
  },
  {
   "cell_type": "code",
   "execution_count": 4,
   "metadata": {},
   "outputs": [
    {
     "name": "stdout",
     "output_type": "stream",
     "text": [
      "Reading/Writting calibration data from data_calibration/\n",
      "Writting output data in data_cl/\n",
      "%%%%%%%%%%%%%%%%%%%%%%%%%%%%%% TELESCOPE %%%%%%%%%%%%%%%%%%%%%%%%%%%%%%\n",
      "     Diameter             8                [m]        \n",
      "    Resolution            80             [pixels]     \n",
      "    Pixel Size           0.1               [m]        \n",
      "     Surface             50.0              [m2]       \n",
      "Central Obstruction11.200000000000001 [% of diameter]  \n",
      "Pixels in the pupil       4964            [pixels]     \n",
      "      Source             None                         \n",
      "%%%%%%%%%%%%%%%%%%%%%%%%%%%%%%%%%%%%%%%%%%%%%%%%%%%%%%%%%%%%%%%%%%%%%%%%%\n",
      "No light propagated through the telescope\n",
      "%%%%%%%%%%%%%%%%%%%%%%%%%%%%%%%%%%%%%%%%%%%%%%%%%%%%%%%%%%% SOURCE %%%%%%%%%%%%%%%%%%%%%%%%%%%%%%%%%%%%%%%%%%%%%%%%%%%%%%%%%%%\n",
      "      Source          Wavelength     Zenith [arcsec]    Azimuth [deg]      Altitude [m]       Magnitude      Flux [phot/m2/s] \n",
      "------------------------------------------------------------------------------------------------------------------------------\n",
      "       NGS            2.179e-06             0                 0                inf               8.0            1200190.6     \n",
      "%%%%%%%%%%%%%%%%%%%%%%%%%%%%%%%%%%%%%%%%%%%%%%%%%%%%%%%%%%%%%%%%%%%%%%%%%%%%%%%%%%%%%%%%%%%%%%%%%%%%%%%%%%%%%%%%%%%%%%%%%%%%%%\n",
      "No coordinates loaded.. taking the cartesian geometry as a default\n",
      "Generating a Deformable Mirror: \n",
      "Computing the 2D zonal modes...\n",
      "%%%%%%%%%%%%%%%%%%%%%%%%%%%%%% DEFORMABLE MIRROR %%%%%%%%%%%%%%%%%%%%%%%%%%%%%%\n",
      "Controlled Actuators        356        \n",
      "         M4                False       \n",
      "        Pitch               0.4               [m]        \n",
      " Mechanical Coupling        0.45              [%]        \n",
      "-------------------------------------------------------------------------------\n",
      "Mis-registration:\n",
      "Rotation [deg]\tShift X [m]\tShift Y [m]\tRadial Scaling [%]\tTangential Scaling [%]\n",
      "      0       \t     0     \t     0     \t        0         \t          0           \n",
      "%%%%%%%%%%%%%%%%%%%%%%%%%%%%%%%%%%%%%%%%%%%%%%%%%%%%%%%%%%%%%%%%%%%%%%%%%%%%%%%\n",
      "%%%%%%%%%%%%%%%%%%%%%%%%%%%%%%%%%%%%%%%%%%%%%%%%%%%%%%%%%%% SOURCE %%%%%%%%%%%%%%%%%%%%%%%%%%%%%%%%%%%%%%%%%%%%%%%%%%%%%%%%%%%\n",
      "      Source          Wavelength     Zenith [arcsec]    Azimuth [deg]      Altitude [m]       Magnitude      Flux [phot/m2/s] \n",
      "------------------------------------------------------------------------------------------------------------------------------\n",
      "       NGS             7.9e-07              0                 0                inf               8.0            4629306.6     \n",
      "%%%%%%%%%%%%%%%%%%%%%%%%%%%%%%%%%%%%%%%%%%%%%%%%%%%%%%%%%%%%%%%%%%%%%%%%%%%%%%%%%%%%%%%%%%%%%%%%%%%%%%%%%%%%%%%%%%%%%%%%%%%%%%\n",
      "Pyramid Mask initialization...\n",
      "Selection of the valid pixels...\n",
      "The valid pixel are selected on flux considerations\n",
      "Acquisition of the reference slopes and units calibration...\n",
      "WFS calibrated!\n",
      "%%%%%%%%%%%%%%%%%%%%%%%%%%%%%% PYRAMID WFS %%%%%%%%%%%%%%%%%%%%%%%%%%%%%%\n",
      " Pupils Diameter          20             [pixels]     \n",
      "Pupils Separation         4              [pixels]     \n",
      "       FoV               4.49            [arcsec]     \n",
      "  TT Modulation           5             [lamda/D]     \n",
      "PSF Core Sampling         1             [pixel(s)]    \n",
      "   Valid Pixels          688            [pixel(s)]    \n",
      "Signal Computation    slopesMaps    \n",
      "%%%%%%%%%%%%%%%%%%%%%%%%%%%%%%%%%%%%%%%%%%%%%%%%%%%%%%%%%%%%%%%%%%%%%%%%%\n",
      "Creation of layer1/5 ...\n",
      "-> Computing the initial phase screen...\n",
      "initial phase screen : 0.00443267822265625 s\n",
      "ZZt.. : 0.5072727203369141 s\n",
      "ZXt.. : 0.17587757110595703 s\n",
      "XXt.. : 0.05829930305480957 s\n",
      "Done!\n",
      "Creation of layer2/5 ...\n",
      "-> Computing the initial phase screen...\n",
      "initial phase screen : 0.008690834045410156 s\n",
      "ZZt.. : 7.152557373046875e-07 s\n",
      "ZXt.. : 4.696846008300781e-05 s\n",
      "XXt.. : 2.6226043701171875e-05 s\n",
      "SCAO system considered: covariance matrices were already computed!\n",
      "Done!\n",
      "Creation of layer3/5 ...\n",
      "-> Computing the initial phase screen...\n",
      "initial phase screen : 0.008253335952758789 s\n",
      "ZZt.. : 7.152557373046875e-07 s\n",
      "ZXt.. : 4.863739013671875e-05 s\n",
      "XXt.. : 2.7179718017578125e-05 s\n",
      "SCAO system considered: covariance matrices were already computed!\n",
      "Done!\n",
      "Creation of layer4/5 ...\n",
      "-> Computing the initial phase screen...\n",
      "initial phase screen : 0.024782657623291016 s\n",
      "ZZt.. : 1.6689300537109375e-06 s\n",
      "ZXt.. : 8.368492126464844e-05 s\n",
      "XXt.. : 3.0517578125e-05 s\n",
      "SCAO system considered: covariance matrices were already computed!\n",
      "Done!\n",
      "Creation of layer5/5 ...\n",
      "-> Computing the initial phase screen...\n",
      "initial phase screen : 0.010378122329711914 s\n",
      "ZZt.. : 9.5367431640625e-07 s\n",
      "ZXt.. : 0.0012540817260742188 s\n",
      "XXt.. : 0.0001633167266845703 s\n",
      "SCAO system considered: covariance matrices were already computed!\n",
      "Done!\n",
      "%%%%%%%%%%%%%%%%%%%%%%%%%%%%%%%%%%%%%%% ATMOSPHERE %%%%%%%%%%%%%%%%%%%%%%%%%%%%%%%%%%%%%%%\n",
      "      Layer        Direction [deg]     Speed [m/s]       Altitude [m]      Cn2 [m-2/3]    \n",
      "------------------------------------------------------------------------------------------\n",
      "        1                 0                 10                0                0.45       \n",
      "------------------------------------------------------------------------------------------\n",
      "        2                 72                12               1000              0.1        \n",
      "------------------------------------------------------------------------------------------\n",
      "        3                144                11               5000              0.1        \n",
      "------------------------------------------------------------------------------------------\n",
      "        4                216                15              10000              0.25       \n",
      "------------------------------------------------------------------------------------------\n",
      "        5                288                20              12000              0.1        \n",
      "------------------------------------------------------------------------------------------\n",
      "******************************************************************************************\n",
      "        r0             0.3 [m]      \n",
      "        L0              30 [m]      \n",
      "    Seeing (V)         0.34 [\"]     \n",
      "    Frequency        1000.0 [Hz]    \n",
      "%%%%%%%%%%%%%%%%%%%%%%%%%%%%%%%%%%%%%%%%%%%%%%%%%%%%%%%%%%%%%%%%%%%%%%%%%%%%%%%%%%%%%%%%%%\n",
      "Telescope and Atmosphere combined!\n",
      "Opening Existing Shared Memory Object wfsRaw\n",
      "Opening Existing Shared Memory Object wfsRaw_meta\n",
      "Opening Existing Shared Memory Object wfs\n",
      "Opening Existing Shared Memory Object wfs_meta\n",
      "Opening Existing Shared Memory Object wfc\n",
      "Opening Existing Shared Memory Object wfc_meta\n",
      "Opening Existing Shared Memory Object wfc2D\n",
      "Opening Existing Shared Memory Object wfc2D_meta\n",
      "Opening Existing Shared Memory Object psfShort\n",
      "Opening Existing Shared Memory Object psfShort_meta\n",
      "Opening Existing Shared Memory Object psfLong\n",
      "Opening Existing Shared Memory Object psfLong_meta\n",
      "Opening Existing Shared Memory Object wfs_meta\n",
      "Closing wfs_meta\n",
      "Opening Existing Shared Memory Object wfs\n",
      "Opening Existing Shared Memory Object wfs_meta\n",
      "Opening Existing Shared Memory Object signal\n",
      "Opening Existing Shared Memory Object signal_meta\n",
      "Opening Existing Shared Memory Object signal2D\n",
      "Opening Existing Shared Memory Object signal2D_meta\n",
      "Opening Existing Shared Memory Object signal_meta\n",
      "Closing signal_meta\n",
      "Opening Existing Shared Memory Object signal\n",
      "Opening Existing Shared Memory Object signal_meta\n",
      "Opening Existing Shared Memory Object wfc_meta\n",
      "Closing wfc_meta\n",
      "Opening Existing Shared Memory Object wfc\n",
      "Opening Existing Shared Memory Object wfc_meta\n"
     ]
    }
   ],
   "source": [
    "\"\"\"\n",
    "Create the OOPAO simulation interface object \n",
    "Running this cell will initialize the dm, wfs, psf, and slopes objects, \n",
    "but will not start their real time computations. This inialization includes\n",
    "the creation of the Shared Memory Objects, and the simulation inialization.\n",
    "\"\"\"\n",
    "sim = OOPAOInterface(conf=conf, param=None)\n",
    "wfs, dm, psf = sim.get_hardware()\n",
    "\n",
    "\n",
    "\"\"\"\n",
    "\"\"\"\n",
    "slopes = SlopesProcess(conf=conf)\n",
    "\n",
    "\"\"\" \n",
    "\"\"\"\n",
    "#Initialize our AO loop object\n",
    "loop = Loop(conf=conf)\n"
   ]
  },
  {
   "cell_type": "code",
   "execution_count": 5,
   "metadata": {},
   "outputs": [],
   "source": [
    "\"\"\"\n",
    "Start the processes. Here the real-time computations selected in\n",
    "the config will begin.\n",
    "\"\"\"\n",
    "dm.start()\n",
    "dm.flatten()\n",
    "\n",
    "wfs.start()\n",
    "slopes.start()\n",
    "psf.start()"
   ]
  },
  {
   "cell_type": "markdown",
   "metadata": {},
   "source": [
    "### IMPORTANT: REAL-TIME VIEWING \n",
    "\n",
    "At this point, you can look at the shared memory objects to see what is happening in real time as we run the AO loop.\n",
    "\n",
    "First, navigate on a terminal to the pyRTCView Folder: \n",
    "\n",
    "```cd INSTALLTION_LOCATION/pyRTC/pyRTCView```\n",
    "\n",
    "Now run the viewer for whatever shared memory you would like to look at. For the default simulation run:\n",
    "\n",
    "```\n",
    "python pyRTCView.py wfs &\n",
    "python pyRTCView.py wfc2D &\n",
    "python pyRTCView.py signal2D &\n",
    "python pyRTCView.py psfShort &\n",
    "```"
   ]
  },
  {
   "cell_type": "code",
   "execution_count": 6,
   "metadata": {},
   "outputs": [
    {
     "name": "stdout",
     "output_type": "stream",
     "text": [
      "Telescope and Atmosphere separated!\n",
      "Telescope and Atmosphere separated!\n",
      "Telescope and Atmosphere combined!\n",
      "Telescope and Atmosphere combined!\n"
     ]
    }
   ],
   "source": [
    "#Remove the atmosphere from the simulation\n",
    "sim.removeAtmosphere()\n",
    "\n",
    "#Compute the IM, blocking\n",
    "loop.computeIM()\n",
    "\n",
    "#Add the atmosphere back to the simulation\n",
    "sim.addAtmosphere()"
   ]
  },
  {
   "cell_type": "code",
   "execution_count": 7,
   "metadata": {},
   "outputs": [
    {
     "data": {
      "image/png": "[encoded data removed]",
      "text/plain": [
       "<Figure size 432x288 with 1 Axes>"
      ]
     },
     "metadata": {
      "needs_background": "light"
     },
     "output_type": "display_data"
    }
   ],
   "source": [
    "loop.plotIM()"
   ]
  },
  {
   "cell_type": "code",
   "execution_count": 12,
   "metadata": {},
   "outputs": [],
   "source": [
    "dm.flatten()\n",
    "time.sleep(1e-3)\n",
    "loop.setGain(0.3)\n",
    "psf.start()\n",
    "loop.start()\n",
    "import time\n",
    "time.sleep(10)\n",
    "loop.stop()\n",
    "dm.flatten()"
   ]
  },
  {
   "cell_type": "code",
   "execution_count": null,
   "metadata": {},
   "outputs": [],
   "source": [
    "plt.imshow(sim.wfs.signal_2D)\n",
    "plt.colorbar()\n",
    "plt.show()\n",
    "\n",
    "plt.imshow(slopes.signal2D.read_noblock_safe())\n",
    "plt.colorbar()\n",
    "plt.show()"
   ]
  },
  {
   "cell_type": "code",
   "execution_count": null,
   "metadata": {},
   "outputs": [],
   "source": [
    "loop.gain"
   ]
  },
  {
   "cell_type": "code",
   "execution_count": null,
   "metadata": {},
   "outputs": [],
   "source": []
  }
 ],
 "metadata": {
  "kernelspec": {
   "display_name": "base",
   "language": "python",
   "name": "python3"
  },
  "language_info": {
   "codemirror_mode": {
    "name": "ipython",
    "version": 3
   },
   "file_extension": ".py",
   "mimetype": "text/x-python",
   "name": "python",
   "nbconvert_exporter": "python",
   "pygments_lexer": "ipython3",
   "version": "3.9.12"
  }
 },
 "nbformat": 4,
 "nbformat_minor": 2
}
